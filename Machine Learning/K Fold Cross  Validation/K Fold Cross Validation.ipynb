{
 "cells": [
  {
   "cell_type": "code",
   "execution_count": 54,
   "id": "e0be20e9",
   "metadata": {},
   "outputs": [],
   "source": [
    "import pandas as pd\n",
    "import numpy as np"
   ]
  },
  {
   "cell_type": "code",
   "execution_count": 4,
   "id": "f24d2b67",
   "metadata": {},
   "outputs": [],
   "source": [
    "from matplotlib import pyplot as plt"
   ]
  },
  {
   "cell_type": "code",
   "execution_count": 5,
   "id": "55f87ac9",
   "metadata": {},
   "outputs": [],
   "source": [
    "from sklearn.linear_model import LogisticRegression\n",
    "from sklearn.ensemble import RandomForestClassifier\n",
    "from sklearn.svm import SVC\n"
   ]
  },
  {
   "cell_type": "code",
   "execution_count": 6,
   "id": "7670acc2",
   "metadata": {},
   "outputs": [],
   "source": [
    "from sklearn.datasets import load_digits\n",
    "digits = load_digits()"
   ]
  },
  {
   "cell_type": "code",
   "execution_count": 7,
   "id": "1264c974",
   "metadata": {},
   "outputs": [],
   "source": [
    "from sklearn.model_selection import train_test_split\n",
    "X_train, X_test, y_train, y_test = train_test_split(digits.data, digits.target,test_size=0.3)"
   ]
  },
  {
   "cell_type": "code",
   "execution_count": 8,
   "id": "3c62e1be",
   "metadata": {},
   "outputs": [],
   "source": [
    "lr = LogisticRegression()"
   ]
  },
  {
   "cell_type": "code",
   "execution_count": 9,
   "id": "c1e1da74",
   "metadata": {
    "scrolled": true
   },
   "outputs": [
    {
     "name": "stderr",
     "output_type": "stream",
     "text": [
      "C:\\Users\\Amir Hamza\\Anaconda3\\lib\\site-packages\\sklearn\\linear_model\\_logistic.py:814: ConvergenceWarning: lbfgs failed to converge (status=1):\n",
      "STOP: TOTAL NO. of ITERATIONS REACHED LIMIT.\n",
      "\n",
      "Increase the number of iterations (max_iter) or scale the data as shown in:\n",
      "    https://scikit-learn.org/stable/modules/preprocessing.html\n",
      "Please also refer to the documentation for alternative solver options:\n",
      "    https://scikit-learn.org/stable/modules/linear_model.html#logistic-regression\n",
      "  n_iter_i = _check_optimize_result(\n"
     ]
    },
    {
     "data": {
      "text/plain": [
       "LogisticRegression()"
      ]
     },
     "execution_count": 9,
     "metadata": {},
     "output_type": "execute_result"
    }
   ],
   "source": [
    "lr.fit(X_train,y_train)"
   ]
  },
  {
   "cell_type": "code",
   "execution_count": 10,
   "id": "b44d5a5c",
   "metadata": {},
   "outputs": [
    {
     "data": {
      "text/plain": [
       "0.9611111111111111"
      ]
     },
     "execution_count": 10,
     "metadata": {},
     "output_type": "execute_result"
    }
   ],
   "source": [
    "lr.score(X_test,y_test)"
   ]
  },
  {
   "cell_type": "code",
   "execution_count": 13,
   "id": "1076c558",
   "metadata": {},
   "outputs": [
    {
     "data": {
      "text/plain": [
       "RandomForestClassifier(n_estimators=30)"
      ]
     },
     "execution_count": 13,
     "metadata": {},
     "output_type": "execute_result"
    }
   ],
   "source": [
    "rf = RandomForestClassifier(n_estimators=30)\n",
    "rf.fit(X_train,y_train)"
   ]
  },
  {
   "cell_type": "code",
   "execution_count": 14,
   "id": "a1a2c007",
   "metadata": {},
   "outputs": [
    {
     "data": {
      "text/plain": [
       "0.9666666666666667"
      ]
     },
     "execution_count": 14,
     "metadata": {},
     "output_type": "execute_result"
    }
   ],
   "source": [
    "rf.score(X_test,y_test)"
   ]
  },
  {
   "cell_type": "code",
   "execution_count": 15,
   "id": "fa36d20a",
   "metadata": {},
   "outputs": [],
   "source": [
    "svc = SVC()"
   ]
  },
  {
   "cell_type": "code",
   "execution_count": 16,
   "id": "018ff9c8",
   "metadata": {},
   "outputs": [
    {
     "data": {
      "text/plain": [
       "SVC()"
      ]
     },
     "execution_count": 16,
     "metadata": {},
     "output_type": "execute_result"
    }
   ],
   "source": [
    "svc.fit(X_train,y_train)"
   ]
  },
  {
   "cell_type": "code",
   "execution_count": 18,
   "id": "15875140",
   "metadata": {},
   "outputs": [
    {
     "data": {
      "text/plain": [
       "0.9960222752585521"
      ]
     },
     "execution_count": 18,
     "metadata": {},
     "output_type": "execute_result"
    }
   ],
   "source": [
    "svc.score(X_train,y_train)"
   ]
  },
  {
   "cell_type": "code",
   "execution_count": 20,
   "id": "a9b459da",
   "metadata": {},
   "outputs": [
    {
     "data": {
      "text/plain": [
       "KFold(n_splits=3, random_state=None, shuffle=False)"
      ]
     },
     "execution_count": 20,
     "metadata": {},
     "output_type": "execute_result"
    }
   ],
   "source": [
    "from sklearn.model_selection import KFold\n",
    "kf = KFold(n_splits=3)\n",
    "kf"
   ]
  },
  {
   "cell_type": "code",
   "execution_count": 21,
   "id": "6d9021ac",
   "metadata": {},
   "outputs": [
    {
     "name": "stdout",
     "output_type": "stream",
     "text": [
      "[3 4 5 6 7 8] [0 1 2]\n",
      "[0 1 2 6 7 8] [3 4 5]\n",
      "[0 1 2 3 4 5] [6 7 8]\n"
     ]
    }
   ],
   "source": [
    "for train_index, test_index in kf.split([1,2,3,4,5,6,7,8,9]):\n",
    "    print(train_index, test_index)"
   ]
  },
  {
   "cell_type": "code",
   "execution_count": 28,
   "id": "f50e9f16",
   "metadata": {},
   "outputs": [],
   "source": [
    "def get_score(model, X_train, X_test, y_train, y_test):\n",
    "    model.fit(X_train, y_train)\n",
    "    return model.score(X_test,y_test)"
   ]
  },
  {
   "cell_type": "code",
   "execution_count": 32,
   "id": "7912bcfa",
   "metadata": {},
   "outputs": [
    {
     "data": {
      "text/plain": [
       "0.9814814814814815"
      ]
     },
     "execution_count": 32,
     "metadata": {},
     "output_type": "execute_result"
    }
   ],
   "source": [
    "get_score(SVC(), X_train, X_test, y_train, y_test)"
   ]
  },
  {
   "cell_type": "code",
   "execution_count": 25,
   "id": "c6329ef6",
   "metadata": {},
   "outputs": [
    {
     "data": {
      "text/plain": [
       "0.9555555555555556"
      ]
     },
     "execution_count": 25,
     "metadata": {},
     "output_type": "execute_result"
    }
   ],
   "source": [
    "get_score(RandomForestClassifier(n_estimators=30), X_train, X_test, y_train, y_test)"
   ]
  },
  {
   "cell_type": "code",
   "execution_count": 38,
   "id": "560bfaea",
   "metadata": {},
   "outputs": [
    {
     "name": "stderr",
     "output_type": "stream",
     "text": [
      "C:\\Users\\Amir Hamza\\Anaconda3\\lib\\site-packages\\sklearn\\linear_model\\_logistic.py:814: ConvergenceWarning: lbfgs failed to converge (status=1):\n",
      "STOP: TOTAL NO. of ITERATIONS REACHED LIMIT.\n",
      "\n",
      "Increase the number of iterations (max_iter) or scale the data as shown in:\n",
      "    https://scikit-learn.org/stable/modules/preprocessing.html\n",
      "Please also refer to the documentation for alternative solver options:\n",
      "    https://scikit-learn.org/stable/modules/linear_model.html#logistic-regression\n",
      "  n_iter_i = _check_optimize_result(\n",
      "C:\\Users\\Amir Hamza\\Anaconda3\\lib\\site-packages\\sklearn\\linear_model\\_logistic.py:814: ConvergenceWarning: lbfgs failed to converge (status=1):\n",
      "STOP: TOTAL NO. of ITERATIONS REACHED LIMIT.\n",
      "\n",
      "Increase the number of iterations (max_iter) or scale the data as shown in:\n",
      "    https://scikit-learn.org/stable/modules/preprocessing.html\n",
      "Please also refer to the documentation for alternative solver options:\n",
      "    https://scikit-learn.org/stable/modules/linear_model.html#logistic-regression\n",
      "  n_iter_i = _check_optimize_result(\n",
      "C:\\Users\\Amir Hamza\\Anaconda3\\lib\\site-packages\\sklearn\\linear_model\\_logistic.py:814: ConvergenceWarning: lbfgs failed to converge (status=1):\n",
      "STOP: TOTAL NO. of ITERATIONS REACHED LIMIT.\n",
      "\n",
      "Increase the number of iterations (max_iter) or scale the data as shown in:\n",
      "    https://scikit-learn.org/stable/modules/preprocessing.html\n",
      "Please also refer to the documentation for alternative solver options:\n",
      "    https://scikit-learn.org/stable/modules/linear_model.html#logistic-regression\n",
      "  n_iter_i = _check_optimize_result(\n"
     ]
    }
   ],
   "source": [
    "from sklearn.model_selection import StratifiedKFold\n",
    "folds = StratifiedKFold(n_splits=3)\n",
    "\n",
    "scores_logistic = []\n",
    "scores_svc = []\n",
    "scores_rf = []\n",
    "for train_index, test_index in folds.split(digits.data, digits.target):\n",
    "    X_train, X_test, y_train, y_test = digits.data[train_index], digits.data[test_index], digits.target[train_index], digits.target[test_index]\n",
    "    \n",
    "    scores_svc.append(get_score(SVC(), X_train, X_test, y_train, y_test))\n",
    "    scores_logistic.append(get_score(LogisticRegression(), X_train, X_test, y_train, y_test))\n",
    "    scores_rf.append(get_score(RandomForestClassifier(n_estimators=50), X_train, X_test, y_train, y_test))\n",
    "    \n",
    "    "
   ]
  },
  {
   "cell_type": "code",
   "execution_count": 39,
   "id": "78d38cda",
   "metadata": {},
   "outputs": [
    {
     "data": {
      "text/plain": [
       "[0.9215358931552587, 0.9415692821368948, 0.9165275459098498]"
      ]
     },
     "execution_count": 39,
     "metadata": {},
     "output_type": "execute_result"
    }
   ],
   "source": [
    "scores_logistic"
   ]
  },
  {
   "cell_type": "code",
   "execution_count": 40,
   "id": "3dc7bcc7",
   "metadata": {},
   "outputs": [
    {
     "data": {
      "text/plain": [
       "[0.9649415692821369, 0.9799666110183639, 0.9649415692821369]"
      ]
     },
     "execution_count": 40,
     "metadata": {},
     "output_type": "execute_result"
    }
   ],
   "source": [
    "scores_svc"
   ]
  },
  {
   "cell_type": "code",
   "execution_count": 41,
   "id": "c5f90aef",
   "metadata": {},
   "outputs": [
    {
     "data": {
      "text/plain": [
       "[0.9165275459098498, 0.9415692821368948, 0.9215358931552587]"
      ]
     },
     "execution_count": 41,
     "metadata": {},
     "output_type": "execute_result"
    }
   ],
   "source": [
    "scores_rf"
   ]
  },
  {
   "cell_type": "code",
   "execution_count": 42,
   "id": "8509592f",
   "metadata": {},
   "outputs": [],
   "source": [
    "from sklearn.model_selection import cross_val_score\n"
   ]
  },
  {
   "cell_type": "code",
   "execution_count": 43,
   "id": "63b28cb9",
   "metadata": {},
   "outputs": [
    {
     "data": {
      "text/plain": [
       "array([0.96111111, 0.94444444, 0.98328691, 0.98885794, 0.93871866])"
      ]
     },
     "execution_count": 43,
     "metadata": {},
     "output_type": "execute_result"
    }
   ],
   "source": [
    "cross_val_score(SVC(),digits.data, digits.target)"
   ]
  },
  {
   "cell_type": "code",
   "execution_count": 45,
   "id": "1969617b",
   "metadata": {},
   "outputs": [
    {
     "data": {
      "text/plain": [
       "array([0.93333333, 0.91111111, 0.96100279, 0.9637883 , 0.92479109])"
      ]
     },
     "execution_count": 45,
     "metadata": {},
     "output_type": "execute_result"
    }
   ],
   "source": [
    "cross_val_score(RandomForestClassifier(),digits.data, digits.target)"
   ]
  },
  {
   "cell_type": "code",
   "execution_count": 46,
   "id": "a800dd06",
   "metadata": {},
   "outputs": [
    {
     "name": "stderr",
     "output_type": "stream",
     "text": [
      "C:\\Users\\Amir Hamza\\Anaconda3\\lib\\site-packages\\sklearn\\linear_model\\_logistic.py:814: ConvergenceWarning: lbfgs failed to converge (status=1):\n",
      "STOP: TOTAL NO. of ITERATIONS REACHED LIMIT.\n",
      "\n",
      "Increase the number of iterations (max_iter) or scale the data as shown in:\n",
      "    https://scikit-learn.org/stable/modules/preprocessing.html\n",
      "Please also refer to the documentation for alternative solver options:\n",
      "    https://scikit-learn.org/stable/modules/linear_model.html#logistic-regression\n",
      "  n_iter_i = _check_optimize_result(\n",
      "C:\\Users\\Amir Hamza\\Anaconda3\\lib\\site-packages\\sklearn\\linear_model\\_logistic.py:814: ConvergenceWarning: lbfgs failed to converge (status=1):\n",
      "STOP: TOTAL NO. of ITERATIONS REACHED LIMIT.\n",
      "\n",
      "Increase the number of iterations (max_iter) or scale the data as shown in:\n",
      "    https://scikit-learn.org/stable/modules/preprocessing.html\n",
      "Please also refer to the documentation for alternative solver options:\n",
      "    https://scikit-learn.org/stable/modules/linear_model.html#logistic-regression\n",
      "  n_iter_i = _check_optimize_result(\n",
      "C:\\Users\\Amir Hamza\\Anaconda3\\lib\\site-packages\\sklearn\\linear_model\\_logistic.py:814: ConvergenceWarning: lbfgs failed to converge (status=1):\n",
      "STOP: TOTAL NO. of ITERATIONS REACHED LIMIT.\n",
      "\n",
      "Increase the number of iterations (max_iter) or scale the data as shown in:\n",
      "    https://scikit-learn.org/stable/modules/preprocessing.html\n",
      "Please also refer to the documentation for alternative solver options:\n",
      "    https://scikit-learn.org/stable/modules/linear_model.html#logistic-regression\n",
      "  n_iter_i = _check_optimize_result(\n",
      "C:\\Users\\Amir Hamza\\Anaconda3\\lib\\site-packages\\sklearn\\linear_model\\_logistic.py:814: ConvergenceWarning: lbfgs failed to converge (status=1):\n",
      "STOP: TOTAL NO. of ITERATIONS REACHED LIMIT.\n",
      "\n",
      "Increase the number of iterations (max_iter) or scale the data as shown in:\n",
      "    https://scikit-learn.org/stable/modules/preprocessing.html\n",
      "Please also refer to the documentation for alternative solver options:\n",
      "    https://scikit-learn.org/stable/modules/linear_model.html#logistic-regression\n",
      "  n_iter_i = _check_optimize_result(\n",
      "C:\\Users\\Amir Hamza\\Anaconda3\\lib\\site-packages\\sklearn\\linear_model\\_logistic.py:814: ConvergenceWarning: lbfgs failed to converge (status=1):\n",
      "STOP: TOTAL NO. of ITERATIONS REACHED LIMIT.\n",
      "\n",
      "Increase the number of iterations (max_iter) or scale the data as shown in:\n",
      "    https://scikit-learn.org/stable/modules/preprocessing.html\n",
      "Please also refer to the documentation for alternative solver options:\n",
      "    https://scikit-learn.org/stable/modules/linear_model.html#logistic-regression\n",
      "  n_iter_i = _check_optimize_result(\n"
     ]
    },
    {
     "data": {
      "text/plain": [
       "array([0.92222222, 0.86944444, 0.94150418, 0.93871866, 0.89693593])"
      ]
     },
     "execution_count": 46,
     "metadata": {},
     "output_type": "execute_result"
    }
   ],
   "source": [
    "cross_val_score(LogisticRegression(),digits.data, digits.target)"
   ]
  },
  {
   "cell_type": "code",
   "execution_count": 53,
   "id": "d68038c9",
   "metadata": {},
   "outputs": [
    {
     "name": "stderr",
     "output_type": "stream",
     "text": [
      "C:\\Users\\Amir Hamza\\Anaconda3\\lib\\site-packages\\sklearn\\model_selection\\_validation.py:770: UserWarning: Scoring failed. The score on this train-test partition for these parameters will be set to nan. Details: \n",
      "Traceback (most recent call last):\n",
      "  File \"C:\\Users\\Amir Hamza\\Anaconda3\\lib\\site-packages\\sklearn\\model_selection\\_validation.py\", line 761, in _score\n",
      "    scores = scorer(estimator, X_test, y_test)\n",
      "  File \"C:\\Users\\Amir Hamza\\Anaconda3\\lib\\site-packages\\sklearn\\metrics\\_scorer.py\", line 105, in __call__\n",
      "    score = scorer(estimator, *args, **kwargs)\n",
      "  File \"C:\\Users\\Amir Hamza\\Anaconda3\\lib\\site-packages\\sklearn\\metrics\\_scorer.py\", line 418, in _passthrough_scorer\n",
      "    return estimator.score(*args, **kwargs)\n",
      "  File \"C:\\Users\\Amir Hamza\\Anaconda3\\lib\\site-packages\\sklearn\\base.py\", line 651, in score\n",
      "    return accuracy_score(y, self.predict(X), sample_weight=sample_weight)\n",
      "  File \"C:\\Users\\Amir Hamza\\Anaconda3\\lib\\site-packages\\sklearn\\metrics\\_classification.py\", line 219, in accuracy_score\n",
      "    return _weighted_sum(score, sample_weight, normalize)\n",
      "  File \"C:\\Users\\Amir Hamza\\Anaconda3\\lib\\site-packages\\sklearn\\metrics\\_classification.py\", line 137, in _weighted_sum\n",
      "    return np.average(sample_score, weights=sample_weight)\n",
      "TypeError: 'numpy.ndarray' object is not callable\n",
      "\n",
      "  warnings.warn(\n",
      "C:\\Users\\Amir Hamza\\Anaconda3\\lib\\site-packages\\sklearn\\model_selection\\_validation.py:770: UserWarning: Scoring failed. The score on this train-test partition for these parameters will be set to nan. Details: \n",
      "Traceback (most recent call last):\n",
      "  File \"C:\\Users\\Amir Hamza\\Anaconda3\\lib\\site-packages\\sklearn\\model_selection\\_validation.py\", line 761, in _score\n",
      "    scores = scorer(estimator, X_test, y_test)\n",
      "  File \"C:\\Users\\Amir Hamza\\Anaconda3\\lib\\site-packages\\sklearn\\metrics\\_scorer.py\", line 105, in __call__\n",
      "    score = scorer(estimator, *args, **kwargs)\n",
      "  File \"C:\\Users\\Amir Hamza\\Anaconda3\\lib\\site-packages\\sklearn\\metrics\\_scorer.py\", line 418, in _passthrough_scorer\n",
      "    return estimator.score(*args, **kwargs)\n",
      "  File \"C:\\Users\\Amir Hamza\\Anaconda3\\lib\\site-packages\\sklearn\\base.py\", line 651, in score\n",
      "    return accuracy_score(y, self.predict(X), sample_weight=sample_weight)\n",
      "  File \"C:\\Users\\Amir Hamza\\Anaconda3\\lib\\site-packages\\sklearn\\metrics\\_classification.py\", line 219, in accuracy_score\n",
      "    return _weighted_sum(score, sample_weight, normalize)\n",
      "  File \"C:\\Users\\Amir Hamza\\Anaconda3\\lib\\site-packages\\sklearn\\metrics\\_classification.py\", line 137, in _weighted_sum\n",
      "    return np.average(sample_score, weights=sample_weight)\n",
      "TypeError: 'numpy.ndarray' object is not callable\n",
      "\n",
      "  warnings.warn(\n",
      "C:\\Users\\Amir Hamza\\Anaconda3\\lib\\site-packages\\sklearn\\model_selection\\_validation.py:770: UserWarning: Scoring failed. The score on this train-test partition for these parameters will be set to nan. Details: \n",
      "Traceback (most recent call last):\n",
      "  File \"C:\\Users\\Amir Hamza\\Anaconda3\\lib\\site-packages\\sklearn\\model_selection\\_validation.py\", line 761, in _score\n",
      "    scores = scorer(estimator, X_test, y_test)\n",
      "  File \"C:\\Users\\Amir Hamza\\Anaconda3\\lib\\site-packages\\sklearn\\metrics\\_scorer.py\", line 105, in __call__\n",
      "    score = scorer(estimator, *args, **kwargs)\n",
      "  File \"C:\\Users\\Amir Hamza\\Anaconda3\\lib\\site-packages\\sklearn\\metrics\\_scorer.py\", line 418, in _passthrough_scorer\n",
      "    return estimator.score(*args, **kwargs)\n",
      "  File \"C:\\Users\\Amir Hamza\\Anaconda3\\lib\\site-packages\\sklearn\\base.py\", line 651, in score\n",
      "    return accuracy_score(y, self.predict(X), sample_weight=sample_weight)\n",
      "  File \"C:\\Users\\Amir Hamza\\Anaconda3\\lib\\site-packages\\sklearn\\metrics\\_classification.py\", line 219, in accuracy_score\n",
      "    return _weighted_sum(score, sample_weight, normalize)\n",
      "  File \"C:\\Users\\Amir Hamza\\Anaconda3\\lib\\site-packages\\sklearn\\metrics\\_classification.py\", line 137, in _weighted_sum\n",
      "    return np.average(sample_score, weights=sample_weight)\n",
      "TypeError: 'numpy.ndarray' object is not callable\n",
      "\n",
      "  warnings.warn(\n",
      "C:\\Users\\Amir Hamza\\Anaconda3\\lib\\site-packages\\sklearn\\model_selection\\_validation.py:770: UserWarning: Scoring failed. The score on this train-test partition for these parameters will be set to nan. Details: \n",
      "Traceback (most recent call last):\n",
      "  File \"C:\\Users\\Amir Hamza\\Anaconda3\\lib\\site-packages\\sklearn\\model_selection\\_validation.py\", line 761, in _score\n",
      "    scores = scorer(estimator, X_test, y_test)\n",
      "  File \"C:\\Users\\Amir Hamza\\Anaconda3\\lib\\site-packages\\sklearn\\metrics\\_scorer.py\", line 105, in __call__\n",
      "    score = scorer(estimator, *args, **kwargs)\n",
      "  File \"C:\\Users\\Amir Hamza\\Anaconda3\\lib\\site-packages\\sklearn\\metrics\\_scorer.py\", line 418, in _passthrough_scorer\n",
      "    return estimator.score(*args, **kwargs)\n",
      "  File \"C:\\Users\\Amir Hamza\\Anaconda3\\lib\\site-packages\\sklearn\\base.py\", line 651, in score\n",
      "    return accuracy_score(y, self.predict(X), sample_weight=sample_weight)\n",
      "  File \"C:\\Users\\Amir Hamza\\Anaconda3\\lib\\site-packages\\sklearn\\metrics\\_classification.py\", line 219, in accuracy_score\n",
      "    return _weighted_sum(score, sample_weight, normalize)\n",
      "  File \"C:\\Users\\Amir Hamza\\Anaconda3\\lib\\site-packages\\sklearn\\metrics\\_classification.py\", line 137, in _weighted_sum\n",
      "    return np.average(sample_score, weights=sample_weight)\n",
      "TypeError: 'numpy.ndarray' object is not callable\n",
      "\n",
      "  warnings.warn(\n",
      "C:\\Users\\Amir Hamza\\Anaconda3\\lib\\site-packages\\sklearn\\model_selection\\_validation.py:770: UserWarning: Scoring failed. The score on this train-test partition for these parameters will be set to nan. Details: \n",
      "Traceback (most recent call last):\n",
      "  File \"C:\\Users\\Amir Hamza\\Anaconda3\\lib\\site-packages\\sklearn\\model_selection\\_validation.py\", line 761, in _score\n",
      "    scores = scorer(estimator, X_test, y_test)\n",
      "  File \"C:\\Users\\Amir Hamza\\Anaconda3\\lib\\site-packages\\sklearn\\metrics\\_scorer.py\", line 105, in __call__\n",
      "    score = scorer(estimator, *args, **kwargs)\n",
      "  File \"C:\\Users\\Amir Hamza\\Anaconda3\\lib\\site-packages\\sklearn\\metrics\\_scorer.py\", line 418, in _passthrough_scorer\n",
      "    return estimator.score(*args, **kwargs)\n",
      "  File \"C:\\Users\\Amir Hamza\\Anaconda3\\lib\\site-packages\\sklearn\\base.py\", line 651, in score\n",
      "    return accuracy_score(y, self.predict(X), sample_weight=sample_weight)\n",
      "  File \"C:\\Users\\Amir Hamza\\Anaconda3\\lib\\site-packages\\sklearn\\metrics\\_classification.py\", line 219, in accuracy_score\n",
      "    return _weighted_sum(score, sample_weight, normalize)\n",
      "  File \"C:\\Users\\Amir Hamza\\Anaconda3\\lib\\site-packages\\sklearn\\metrics\\_classification.py\", line 137, in _weighted_sum\n",
      "    return np.average(sample_score, weights=sample_weight)\n",
      "TypeError: 'numpy.ndarray' object is not callable\n",
      "\n",
      "  warnings.warn(\n",
      "C:\\Users\\Amir Hamza\\Anaconda3\\lib\\site-packages\\sklearn\\model_selection\\_validation.py:770: UserWarning: Scoring failed. The score on this train-test partition for these parameters will be set to nan. Details: \n",
      "Traceback (most recent call last):\n",
      "  File \"C:\\Users\\Amir Hamza\\Anaconda3\\lib\\site-packages\\sklearn\\model_selection\\_validation.py\", line 761, in _score\n",
      "    scores = scorer(estimator, X_test, y_test)\n",
      "  File \"C:\\Users\\Amir Hamza\\Anaconda3\\lib\\site-packages\\sklearn\\metrics\\_scorer.py\", line 105, in __call__\n",
      "    score = scorer(estimator, *args, **kwargs)\n",
      "  File \"C:\\Users\\Amir Hamza\\Anaconda3\\lib\\site-packages\\sklearn\\metrics\\_scorer.py\", line 418, in _passthrough_scorer\n",
      "    return estimator.score(*args, **kwargs)\n",
      "  File \"C:\\Users\\Amir Hamza\\Anaconda3\\lib\\site-packages\\sklearn\\base.py\", line 651, in score\n",
      "    return accuracy_score(y, self.predict(X), sample_weight=sample_weight)\n",
      "  File \"C:\\Users\\Amir Hamza\\Anaconda3\\lib\\site-packages\\sklearn\\metrics\\_classification.py\", line 219, in accuracy_score\n",
      "    return _weighted_sum(score, sample_weight, normalize)\n",
      "  File \"C:\\Users\\Amir Hamza\\Anaconda3\\lib\\site-packages\\sklearn\\metrics\\_classification.py\", line 137, in _weighted_sum\n",
      "    return np.average(sample_score, weights=sample_weight)\n",
      "TypeError: 'numpy.ndarray' object is not callable\n",
      "\n",
      "  warnings.warn(\n",
      "C:\\Users\\Amir Hamza\\Anaconda3\\lib\\site-packages\\sklearn\\model_selection\\_validation.py:770: UserWarning: Scoring failed. The score on this train-test partition for these parameters will be set to nan. Details: \n",
      "Traceback (most recent call last):\n",
      "  File \"C:\\Users\\Amir Hamza\\Anaconda3\\lib\\site-packages\\sklearn\\model_selection\\_validation.py\", line 761, in _score\n",
      "    scores = scorer(estimator, X_test, y_test)\n",
      "  File \"C:\\Users\\Amir Hamza\\Anaconda3\\lib\\site-packages\\sklearn\\metrics\\_scorer.py\", line 105, in __call__\n",
      "    score = scorer(estimator, *args, **kwargs)\n",
      "  File \"C:\\Users\\Amir Hamza\\Anaconda3\\lib\\site-packages\\sklearn\\metrics\\_scorer.py\", line 418, in _passthrough_scorer\n",
      "    return estimator.score(*args, **kwargs)\n",
      "  File \"C:\\Users\\Amir Hamza\\Anaconda3\\lib\\site-packages\\sklearn\\base.py\", line 651, in score\n",
      "    return accuracy_score(y, self.predict(X), sample_weight=sample_weight)\n",
      "  File \"C:\\Users\\Amir Hamza\\Anaconda3\\lib\\site-packages\\sklearn\\metrics\\_classification.py\", line 219, in accuracy_score\n",
      "    return _weighted_sum(score, sample_weight, normalize)\n",
      "  File \"C:\\Users\\Amir Hamza\\Anaconda3\\lib\\site-packages\\sklearn\\metrics\\_classification.py\", line 137, in _weighted_sum\n",
      "    return np.average(sample_score, weights=sample_weight)\n",
      "TypeError: 'numpy.ndarray' object is not callable\n",
      "\n",
      "  warnings.warn(\n",
      "C:\\Users\\Amir Hamza\\Anaconda3\\lib\\site-packages\\sklearn\\model_selection\\_validation.py:770: UserWarning: Scoring failed. The score on this train-test partition for these parameters will be set to nan. Details: \n",
      "Traceback (most recent call last):\n",
      "  File \"C:\\Users\\Amir Hamza\\Anaconda3\\lib\\site-packages\\sklearn\\model_selection\\_validation.py\", line 761, in _score\n",
      "    scores = scorer(estimator, X_test, y_test)\n",
      "  File \"C:\\Users\\Amir Hamza\\Anaconda3\\lib\\site-packages\\sklearn\\metrics\\_scorer.py\", line 105, in __call__\n",
      "    score = scorer(estimator, *args, **kwargs)\n",
      "  File \"C:\\Users\\Amir Hamza\\Anaconda3\\lib\\site-packages\\sklearn\\metrics\\_scorer.py\", line 418, in _passthrough_scorer\n",
      "    return estimator.score(*args, **kwargs)\n",
      "  File \"C:\\Users\\Amir Hamza\\Anaconda3\\lib\\site-packages\\sklearn\\base.py\", line 651, in score\n",
      "    return accuracy_score(y, self.predict(X), sample_weight=sample_weight)\n",
      "  File \"C:\\Users\\Amir Hamza\\Anaconda3\\lib\\site-packages\\sklearn\\metrics\\_classification.py\", line 219, in accuracy_score\n",
      "    return _weighted_sum(score, sample_weight, normalize)\n",
      "  File \"C:\\Users\\Amir Hamza\\Anaconda3\\lib\\site-packages\\sklearn\\metrics\\_classification.py\", line 137, in _weighted_sum\n",
      "    return np.average(sample_score, weights=sample_weight)\n",
      "TypeError: 'numpy.ndarray' object is not callable\n",
      "\n",
      "  warnings.warn(\n",
      "C:\\Users\\Amir Hamza\\Anaconda3\\lib\\site-packages\\sklearn\\model_selection\\_validation.py:770: UserWarning: Scoring failed. The score on this train-test partition for these parameters will be set to nan. Details: \n",
      "Traceback (most recent call last):\n",
      "  File \"C:\\Users\\Amir Hamza\\Anaconda3\\lib\\site-packages\\sklearn\\model_selection\\_validation.py\", line 761, in _score\n",
      "    scores = scorer(estimator, X_test, y_test)\n",
      "  File \"C:\\Users\\Amir Hamza\\Anaconda3\\lib\\site-packages\\sklearn\\metrics\\_scorer.py\", line 105, in __call__\n",
      "    score = scorer(estimator, *args, **kwargs)\n",
      "  File \"C:\\Users\\Amir Hamza\\Anaconda3\\lib\\site-packages\\sklearn\\metrics\\_scorer.py\", line 418, in _passthrough_scorer\n",
      "    return estimator.score(*args, **kwargs)\n",
      "  File \"C:\\Users\\Amir Hamza\\Anaconda3\\lib\\site-packages\\sklearn\\base.py\", line 651, in score\n",
      "    return accuracy_score(y, self.predict(X), sample_weight=sample_weight)\n",
      "  File \"C:\\Users\\Amir Hamza\\Anaconda3\\lib\\site-packages\\sklearn\\metrics\\_classification.py\", line 219, in accuracy_score\n",
      "    return _weighted_sum(score, sample_weight, normalize)\n",
      "  File \"C:\\Users\\Amir Hamza\\Anaconda3\\lib\\site-packages\\sklearn\\metrics\\_classification.py\", line 137, in _weighted_sum\n",
      "    return np.average(sample_score, weights=sample_weight)\n",
      "TypeError: 'numpy.ndarray' object is not callable\n",
      "\n",
      "  warnings.warn(\n"
     ]
    },
    {
     "name": "stderr",
     "output_type": "stream",
     "text": [
      "C:\\Users\\Amir Hamza\\Anaconda3\\lib\\site-packages\\sklearn\\model_selection\\_validation.py:770: UserWarning: Scoring failed. The score on this train-test partition for these parameters will be set to nan. Details: \n",
      "Traceback (most recent call last):\n",
      "  File \"C:\\Users\\Amir Hamza\\Anaconda3\\lib\\site-packages\\sklearn\\model_selection\\_validation.py\", line 761, in _score\n",
      "    scores = scorer(estimator, X_test, y_test)\n",
      "  File \"C:\\Users\\Amir Hamza\\Anaconda3\\lib\\site-packages\\sklearn\\metrics\\_scorer.py\", line 105, in __call__\n",
      "    score = scorer(estimator, *args, **kwargs)\n",
      "  File \"C:\\Users\\Amir Hamza\\Anaconda3\\lib\\site-packages\\sklearn\\metrics\\_scorer.py\", line 418, in _passthrough_scorer\n",
      "    return estimator.score(*args, **kwargs)\n",
      "  File \"C:\\Users\\Amir Hamza\\Anaconda3\\lib\\site-packages\\sklearn\\base.py\", line 651, in score\n",
      "    return accuracy_score(y, self.predict(X), sample_weight=sample_weight)\n",
      "  File \"C:\\Users\\Amir Hamza\\Anaconda3\\lib\\site-packages\\sklearn\\metrics\\_classification.py\", line 219, in accuracy_score\n",
      "    return _weighted_sum(score, sample_weight, normalize)\n",
      "  File \"C:\\Users\\Amir Hamza\\Anaconda3\\lib\\site-packages\\sklearn\\metrics\\_classification.py\", line 137, in _weighted_sum\n",
      "    return np.average(sample_score, weights=sample_weight)\n",
      "TypeError: 'numpy.ndarray' object is not callable\n",
      "\n",
      "  warnings.warn(\n"
     ]
    },
    {
     "ename": "TypeError",
     "evalue": "'numpy.ndarray' object is not callable",
     "output_type": "error",
     "traceback": [
      "\u001b[1;31m---------------------------------------------------------------------------\u001b[0m",
      "\u001b[1;31mTypeError\u001b[0m                                 Traceback (most recent call last)",
      "\u001b[1;32m~\\AppData\\Local\\Temp\\ipykernel_6072\\2592391432.py\u001b[0m in \u001b[0;36m<module>\u001b[1;34m\u001b[0m\n\u001b[0;32m      1\u001b[0m \u001b[0mscores1\u001b[0m \u001b[1;33m=\u001b[0m \u001b[0mcross_val_score\u001b[0m\u001b[1;33m(\u001b[0m\u001b[0mRandomForestClassifier\u001b[0m\u001b[1;33m(\u001b[0m\u001b[0mn_estimators\u001b[0m\u001b[1;33m=\u001b[0m\u001b[1;36m5\u001b[0m\u001b[1;33m)\u001b[0m\u001b[1;33m,\u001b[0m\u001b[0mdigits\u001b[0m\u001b[1;33m.\u001b[0m\u001b[0mdata\u001b[0m\u001b[1;33m,\u001b[0m \u001b[0mdigits\u001b[0m\u001b[1;33m.\u001b[0m\u001b[0mtarget\u001b[0m\u001b[1;33m,\u001b[0m \u001b[0mcv\u001b[0m \u001b[1;33m=\u001b[0m \u001b[1;36m10\u001b[0m\u001b[1;33m)\u001b[0m\u001b[1;33m\u001b[0m\u001b[1;33m\u001b[0m\u001b[0m\n\u001b[1;32m----> 2\u001b[1;33m \u001b[0mnp\u001b[0m\u001b[1;33m.\u001b[0m\u001b[0maverage\u001b[0m\u001b[1;33m(\u001b[0m\u001b[0mscores1\u001b[0m\u001b[1;33m)\u001b[0m\u001b[1;33m\u001b[0m\u001b[1;33m\u001b[0m\u001b[0m\n\u001b[0m",
      "\u001b[1;31mTypeError\u001b[0m: 'numpy.ndarray' object is not callable"
     ]
    }
   ],
   "source": [
    "scores1 = cross_val_score(RandomForestClassifier(n_estimators=5),digits.data, digits.target, cv = 10)\n",
    "np.average(scores1)"
   ]
  },
  {
   "cell_type": "code",
   "execution_count": 55,
   "id": "88c031d7",
   "metadata": {},
   "outputs": [
    {
     "name": "stderr",
     "output_type": "stream",
     "text": [
      "C:\\Users\\Amir Hamza\\Anaconda3\\lib\\site-packages\\sklearn\\model_selection\\_validation.py:770: UserWarning: Scoring failed. The score on this train-test partition for these parameters will be set to nan. Details: \n",
      "Traceback (most recent call last):\n",
      "  File \"C:\\Users\\Amir Hamza\\Anaconda3\\lib\\site-packages\\sklearn\\model_selection\\_validation.py\", line 761, in _score\n",
      "    scores = scorer(estimator, X_test, y_test)\n",
      "  File \"C:\\Users\\Amir Hamza\\Anaconda3\\lib\\site-packages\\sklearn\\metrics\\_scorer.py\", line 105, in __call__\n",
      "    score = scorer(estimator, *args, **kwargs)\n",
      "  File \"C:\\Users\\Amir Hamza\\Anaconda3\\lib\\site-packages\\sklearn\\metrics\\_scorer.py\", line 418, in _passthrough_scorer\n",
      "    return estimator.score(*args, **kwargs)\n",
      "  File \"C:\\Users\\Amir Hamza\\Anaconda3\\lib\\site-packages\\sklearn\\base.py\", line 651, in score\n",
      "    return accuracy_score(y, self.predict(X), sample_weight=sample_weight)\n",
      "  File \"C:\\Users\\Amir Hamza\\Anaconda3\\lib\\site-packages\\sklearn\\metrics\\_classification.py\", line 219, in accuracy_score\n",
      "    return _weighted_sum(score, sample_weight, normalize)\n",
      "  File \"C:\\Users\\Amir Hamza\\Anaconda3\\lib\\site-packages\\sklearn\\metrics\\_classification.py\", line 137, in _weighted_sum\n",
      "    return np.average(sample_score, weights=sample_weight)\n",
      "TypeError: 'numpy.ndarray' object is not callable\n",
      "\n",
      "  warnings.warn(\n",
      "C:\\Users\\Amir Hamza\\Anaconda3\\lib\\site-packages\\sklearn\\model_selection\\_validation.py:770: UserWarning: Scoring failed. The score on this train-test partition for these parameters will be set to nan. Details: \n",
      "Traceback (most recent call last):\n",
      "  File \"C:\\Users\\Amir Hamza\\Anaconda3\\lib\\site-packages\\sklearn\\model_selection\\_validation.py\", line 761, in _score\n",
      "    scores = scorer(estimator, X_test, y_test)\n",
      "  File \"C:\\Users\\Amir Hamza\\Anaconda3\\lib\\site-packages\\sklearn\\metrics\\_scorer.py\", line 105, in __call__\n",
      "    score = scorer(estimator, *args, **kwargs)\n",
      "  File \"C:\\Users\\Amir Hamza\\Anaconda3\\lib\\site-packages\\sklearn\\metrics\\_scorer.py\", line 418, in _passthrough_scorer\n",
      "    return estimator.score(*args, **kwargs)\n",
      "  File \"C:\\Users\\Amir Hamza\\Anaconda3\\lib\\site-packages\\sklearn\\base.py\", line 651, in score\n",
      "    return accuracy_score(y, self.predict(X), sample_weight=sample_weight)\n",
      "  File \"C:\\Users\\Amir Hamza\\Anaconda3\\lib\\site-packages\\sklearn\\metrics\\_classification.py\", line 219, in accuracy_score\n",
      "    return _weighted_sum(score, sample_weight, normalize)\n",
      "  File \"C:\\Users\\Amir Hamza\\Anaconda3\\lib\\site-packages\\sklearn\\metrics\\_classification.py\", line 137, in _weighted_sum\n",
      "    return np.average(sample_score, weights=sample_weight)\n",
      "TypeError: 'numpy.ndarray' object is not callable\n",
      "\n",
      "  warnings.warn(\n",
      "C:\\Users\\Amir Hamza\\Anaconda3\\lib\\site-packages\\sklearn\\model_selection\\_validation.py:770: UserWarning: Scoring failed. The score on this train-test partition for these parameters will be set to nan. Details: \n",
      "Traceback (most recent call last):\n",
      "  File \"C:\\Users\\Amir Hamza\\Anaconda3\\lib\\site-packages\\sklearn\\model_selection\\_validation.py\", line 761, in _score\n",
      "    scores = scorer(estimator, X_test, y_test)\n",
      "  File \"C:\\Users\\Amir Hamza\\Anaconda3\\lib\\site-packages\\sklearn\\metrics\\_scorer.py\", line 105, in __call__\n",
      "    score = scorer(estimator, *args, **kwargs)\n",
      "  File \"C:\\Users\\Amir Hamza\\Anaconda3\\lib\\site-packages\\sklearn\\metrics\\_scorer.py\", line 418, in _passthrough_scorer\n",
      "    return estimator.score(*args, **kwargs)\n",
      "  File \"C:\\Users\\Amir Hamza\\Anaconda3\\lib\\site-packages\\sklearn\\base.py\", line 651, in score\n",
      "    return accuracy_score(y, self.predict(X), sample_weight=sample_weight)\n",
      "  File \"C:\\Users\\Amir Hamza\\Anaconda3\\lib\\site-packages\\sklearn\\metrics\\_classification.py\", line 219, in accuracy_score\n",
      "    return _weighted_sum(score, sample_weight, normalize)\n",
      "  File \"C:\\Users\\Amir Hamza\\Anaconda3\\lib\\site-packages\\sklearn\\metrics\\_classification.py\", line 137, in _weighted_sum\n",
      "    return np.average(sample_score, weights=sample_weight)\n",
      "TypeError: 'numpy.ndarray' object is not callable\n",
      "\n",
      "  warnings.warn(\n",
      "C:\\Users\\Amir Hamza\\Anaconda3\\lib\\site-packages\\sklearn\\model_selection\\_validation.py:770: UserWarning: Scoring failed. The score on this train-test partition for these parameters will be set to nan. Details: \n",
      "Traceback (most recent call last):\n",
      "  File \"C:\\Users\\Amir Hamza\\Anaconda3\\lib\\site-packages\\sklearn\\model_selection\\_validation.py\", line 761, in _score\n",
      "    scores = scorer(estimator, X_test, y_test)\n",
      "  File \"C:\\Users\\Amir Hamza\\Anaconda3\\lib\\site-packages\\sklearn\\metrics\\_scorer.py\", line 105, in __call__\n",
      "    score = scorer(estimator, *args, **kwargs)\n",
      "  File \"C:\\Users\\Amir Hamza\\Anaconda3\\lib\\site-packages\\sklearn\\metrics\\_scorer.py\", line 418, in _passthrough_scorer\n",
      "    return estimator.score(*args, **kwargs)\n",
      "  File \"C:\\Users\\Amir Hamza\\Anaconda3\\lib\\site-packages\\sklearn\\base.py\", line 651, in score\n",
      "    return accuracy_score(y, self.predict(X), sample_weight=sample_weight)\n",
      "  File \"C:\\Users\\Amir Hamza\\Anaconda3\\lib\\site-packages\\sklearn\\metrics\\_classification.py\", line 219, in accuracy_score\n",
      "    return _weighted_sum(score, sample_weight, normalize)\n",
      "  File \"C:\\Users\\Amir Hamza\\Anaconda3\\lib\\site-packages\\sklearn\\metrics\\_classification.py\", line 137, in _weighted_sum\n",
      "    return np.average(sample_score, weights=sample_weight)\n",
      "TypeError: 'numpy.ndarray' object is not callable\n",
      "\n",
      "  warnings.warn(\n",
      "C:\\Users\\Amir Hamza\\Anaconda3\\lib\\site-packages\\sklearn\\model_selection\\_validation.py:770: UserWarning: Scoring failed. The score on this train-test partition for these parameters will be set to nan. Details: \n",
      "Traceback (most recent call last):\n",
      "  File \"C:\\Users\\Amir Hamza\\Anaconda3\\lib\\site-packages\\sklearn\\model_selection\\_validation.py\", line 761, in _score\n",
      "    scores = scorer(estimator, X_test, y_test)\n",
      "  File \"C:\\Users\\Amir Hamza\\Anaconda3\\lib\\site-packages\\sklearn\\metrics\\_scorer.py\", line 105, in __call__\n",
      "    score = scorer(estimator, *args, **kwargs)\n",
      "  File \"C:\\Users\\Amir Hamza\\Anaconda3\\lib\\site-packages\\sklearn\\metrics\\_scorer.py\", line 418, in _passthrough_scorer\n",
      "    return estimator.score(*args, **kwargs)\n",
      "  File \"C:\\Users\\Amir Hamza\\Anaconda3\\lib\\site-packages\\sklearn\\base.py\", line 651, in score\n",
      "    return accuracy_score(y, self.predict(X), sample_weight=sample_weight)\n",
      "  File \"C:\\Users\\Amir Hamza\\Anaconda3\\lib\\site-packages\\sklearn\\metrics\\_classification.py\", line 219, in accuracy_score\n",
      "    return _weighted_sum(score, sample_weight, normalize)\n",
      "  File \"C:\\Users\\Amir Hamza\\Anaconda3\\lib\\site-packages\\sklearn\\metrics\\_classification.py\", line 137, in _weighted_sum\n",
      "    return np.average(sample_score, weights=sample_weight)\n",
      "TypeError: 'numpy.ndarray' object is not callable\n",
      "\n",
      "  warnings.warn(\n",
      "C:\\Users\\Amir Hamza\\Anaconda3\\lib\\site-packages\\sklearn\\model_selection\\_validation.py:770: UserWarning: Scoring failed. The score on this train-test partition for these parameters will be set to nan. Details: \n",
      "Traceback (most recent call last):\n",
      "  File \"C:\\Users\\Amir Hamza\\Anaconda3\\lib\\site-packages\\sklearn\\model_selection\\_validation.py\", line 761, in _score\n",
      "    scores = scorer(estimator, X_test, y_test)\n",
      "  File \"C:\\Users\\Amir Hamza\\Anaconda3\\lib\\site-packages\\sklearn\\metrics\\_scorer.py\", line 105, in __call__\n",
      "    score = scorer(estimator, *args, **kwargs)\n",
      "  File \"C:\\Users\\Amir Hamza\\Anaconda3\\lib\\site-packages\\sklearn\\metrics\\_scorer.py\", line 418, in _passthrough_scorer\n",
      "    return estimator.score(*args, **kwargs)\n",
      "  File \"C:\\Users\\Amir Hamza\\Anaconda3\\lib\\site-packages\\sklearn\\base.py\", line 651, in score\n",
      "    return accuracy_score(y, self.predict(X), sample_weight=sample_weight)\n",
      "  File \"C:\\Users\\Amir Hamza\\Anaconda3\\lib\\site-packages\\sklearn\\metrics\\_classification.py\", line 219, in accuracy_score\n",
      "    return _weighted_sum(score, sample_weight, normalize)\n",
      "  File \"C:\\Users\\Amir Hamza\\Anaconda3\\lib\\site-packages\\sklearn\\metrics\\_classification.py\", line 137, in _weighted_sum\n",
      "    return np.average(sample_score, weights=sample_weight)\n",
      "TypeError: 'numpy.ndarray' object is not callable\n",
      "\n",
      "  warnings.warn(\n",
      "C:\\Users\\Amir Hamza\\Anaconda3\\lib\\site-packages\\sklearn\\model_selection\\_validation.py:770: UserWarning: Scoring failed. The score on this train-test partition for these parameters will be set to nan. Details: \n",
      "Traceback (most recent call last):\n",
      "  File \"C:\\Users\\Amir Hamza\\Anaconda3\\lib\\site-packages\\sklearn\\model_selection\\_validation.py\", line 761, in _score\n",
      "    scores = scorer(estimator, X_test, y_test)\n",
      "  File \"C:\\Users\\Amir Hamza\\Anaconda3\\lib\\site-packages\\sklearn\\metrics\\_scorer.py\", line 105, in __call__\n",
      "    score = scorer(estimator, *args, **kwargs)\n",
      "  File \"C:\\Users\\Amir Hamza\\Anaconda3\\lib\\site-packages\\sklearn\\metrics\\_scorer.py\", line 418, in _passthrough_scorer\n",
      "    return estimator.score(*args, **kwargs)\n",
      "  File \"C:\\Users\\Amir Hamza\\Anaconda3\\lib\\site-packages\\sklearn\\base.py\", line 651, in score\n",
      "    return accuracy_score(y, self.predict(X), sample_weight=sample_weight)\n",
      "  File \"C:\\Users\\Amir Hamza\\Anaconda3\\lib\\site-packages\\sklearn\\metrics\\_classification.py\", line 219, in accuracy_score\n",
      "    return _weighted_sum(score, sample_weight, normalize)\n",
      "  File \"C:\\Users\\Amir Hamza\\Anaconda3\\lib\\site-packages\\sklearn\\metrics\\_classification.py\", line 137, in _weighted_sum\n",
      "    return np.average(sample_score, weights=sample_weight)\n",
      "TypeError: 'numpy.ndarray' object is not callable\n",
      "\n",
      "  warnings.warn(\n"
     ]
    },
    {
     "name": "stderr",
     "output_type": "stream",
     "text": [
      "C:\\Users\\Amir Hamza\\Anaconda3\\lib\\site-packages\\sklearn\\model_selection\\_validation.py:770: UserWarning: Scoring failed. The score on this train-test partition for these parameters will be set to nan. Details: \n",
      "Traceback (most recent call last):\n",
      "  File \"C:\\Users\\Amir Hamza\\Anaconda3\\lib\\site-packages\\sklearn\\model_selection\\_validation.py\", line 761, in _score\n",
      "    scores = scorer(estimator, X_test, y_test)\n",
      "  File \"C:\\Users\\Amir Hamza\\Anaconda3\\lib\\site-packages\\sklearn\\metrics\\_scorer.py\", line 105, in __call__\n",
      "    score = scorer(estimator, *args, **kwargs)\n",
      "  File \"C:\\Users\\Amir Hamza\\Anaconda3\\lib\\site-packages\\sklearn\\metrics\\_scorer.py\", line 418, in _passthrough_scorer\n",
      "    return estimator.score(*args, **kwargs)\n",
      "  File \"C:\\Users\\Amir Hamza\\Anaconda3\\lib\\site-packages\\sklearn\\base.py\", line 651, in score\n",
      "    return accuracy_score(y, self.predict(X), sample_weight=sample_weight)\n",
      "  File \"C:\\Users\\Amir Hamza\\Anaconda3\\lib\\site-packages\\sklearn\\metrics\\_classification.py\", line 219, in accuracy_score\n",
      "    return _weighted_sum(score, sample_weight, normalize)\n",
      "  File \"C:\\Users\\Amir Hamza\\Anaconda3\\lib\\site-packages\\sklearn\\metrics\\_classification.py\", line 137, in _weighted_sum\n",
      "    return np.average(sample_score, weights=sample_weight)\n",
      "TypeError: 'numpy.ndarray' object is not callable\n",
      "\n",
      "  warnings.warn(\n",
      "C:\\Users\\Amir Hamza\\Anaconda3\\lib\\site-packages\\sklearn\\model_selection\\_validation.py:770: UserWarning: Scoring failed. The score on this train-test partition for these parameters will be set to nan. Details: \n",
      "Traceback (most recent call last):\n",
      "  File \"C:\\Users\\Amir Hamza\\Anaconda3\\lib\\site-packages\\sklearn\\model_selection\\_validation.py\", line 761, in _score\n",
      "    scores = scorer(estimator, X_test, y_test)\n",
      "  File \"C:\\Users\\Amir Hamza\\Anaconda3\\lib\\site-packages\\sklearn\\metrics\\_scorer.py\", line 105, in __call__\n",
      "    score = scorer(estimator, *args, **kwargs)\n",
      "  File \"C:\\Users\\Amir Hamza\\Anaconda3\\lib\\site-packages\\sklearn\\metrics\\_scorer.py\", line 418, in _passthrough_scorer\n",
      "    return estimator.score(*args, **kwargs)\n",
      "  File \"C:\\Users\\Amir Hamza\\Anaconda3\\lib\\site-packages\\sklearn\\base.py\", line 651, in score\n",
      "    return accuracy_score(y, self.predict(X), sample_weight=sample_weight)\n",
      "  File \"C:\\Users\\Amir Hamza\\Anaconda3\\lib\\site-packages\\sklearn\\metrics\\_classification.py\", line 219, in accuracy_score\n",
      "    return _weighted_sum(score, sample_weight, normalize)\n",
      "  File \"C:\\Users\\Amir Hamza\\Anaconda3\\lib\\site-packages\\sklearn\\metrics\\_classification.py\", line 137, in _weighted_sum\n",
      "    return np.average(sample_score, weights=sample_weight)\n",
      "TypeError: 'numpy.ndarray' object is not callable\n",
      "\n",
      "  warnings.warn(\n",
      "C:\\Users\\Amir Hamza\\Anaconda3\\lib\\site-packages\\sklearn\\model_selection\\_validation.py:770: UserWarning: Scoring failed. The score on this train-test partition for these parameters will be set to nan. Details: \n",
      "Traceback (most recent call last):\n",
      "  File \"C:\\Users\\Amir Hamza\\Anaconda3\\lib\\site-packages\\sklearn\\model_selection\\_validation.py\", line 761, in _score\n",
      "    scores = scorer(estimator, X_test, y_test)\n",
      "  File \"C:\\Users\\Amir Hamza\\Anaconda3\\lib\\site-packages\\sklearn\\metrics\\_scorer.py\", line 105, in __call__\n",
      "    score = scorer(estimator, *args, **kwargs)\n",
      "  File \"C:\\Users\\Amir Hamza\\Anaconda3\\lib\\site-packages\\sklearn\\metrics\\_scorer.py\", line 418, in _passthrough_scorer\n",
      "    return estimator.score(*args, **kwargs)\n",
      "  File \"C:\\Users\\Amir Hamza\\Anaconda3\\lib\\site-packages\\sklearn\\base.py\", line 651, in score\n",
      "    return accuracy_score(y, self.predict(X), sample_weight=sample_weight)\n",
      "  File \"C:\\Users\\Amir Hamza\\Anaconda3\\lib\\site-packages\\sklearn\\metrics\\_classification.py\", line 219, in accuracy_score\n",
      "    return _weighted_sum(score, sample_weight, normalize)\n",
      "  File \"C:\\Users\\Amir Hamza\\Anaconda3\\lib\\site-packages\\sklearn\\metrics\\_classification.py\", line 137, in _weighted_sum\n",
      "    return np.average(sample_score, weights=sample_weight)\n",
      "TypeError: 'numpy.ndarray' object is not callable\n",
      "\n",
      "  warnings.warn(\n"
     ]
    },
    {
     "ename": "TypeError",
     "evalue": "'numpy.ndarray' object is not callable",
     "output_type": "error",
     "traceback": [
      "\u001b[1;31m---------------------------------------------------------------------------\u001b[0m",
      "\u001b[1;31mTypeError\u001b[0m                                 Traceback (most recent call last)",
      "\u001b[1;32m~\\AppData\\Local\\Temp\\ipykernel_6072\\19282381.py\u001b[0m in \u001b[0;36m<module>\u001b[1;34m\u001b[0m\n\u001b[0;32m      1\u001b[0m \u001b[0mscores2\u001b[0m \u001b[1;33m=\u001b[0m \u001b[0mcross_val_score\u001b[0m\u001b[1;33m(\u001b[0m\u001b[0mSVC\u001b[0m\u001b[1;33m(\u001b[0m\u001b[1;33m)\u001b[0m\u001b[1;33m,\u001b[0m\u001b[0mdigits\u001b[0m\u001b[1;33m.\u001b[0m\u001b[0mdata\u001b[0m\u001b[1;33m,\u001b[0m \u001b[0mdigits\u001b[0m\u001b[1;33m.\u001b[0m\u001b[0mtarget\u001b[0m\u001b[1;33m,\u001b[0m \u001b[0mcv\u001b[0m \u001b[1;33m=\u001b[0m \u001b[1;36m10\u001b[0m\u001b[1;33m)\u001b[0m\u001b[1;33m\u001b[0m\u001b[1;33m\u001b[0m\u001b[0m\n\u001b[1;32m----> 2\u001b[1;33m \u001b[0mnp\u001b[0m\u001b[1;33m.\u001b[0m\u001b[0maverage\u001b[0m\u001b[1;33m(\u001b[0m\u001b[0mscores2\u001b[0m\u001b[1;33m)\u001b[0m\u001b[1;33m\u001b[0m\u001b[1;33m\u001b[0m\u001b[0m\n\u001b[0m",
      "\u001b[1;31mTypeError\u001b[0m: 'numpy.ndarray' object is not callable"
     ]
    }
   ],
   "source": [
    "scores2 = cross_val_score(SVC(),digits.data, digits.target, cv = 10)\n",
    "np.average(scores2)"
   ]
  },
  {
   "cell_type": "code",
   "execution_count": null,
   "id": "128f6e90",
   "metadata": {},
   "outputs": [],
   "source": []
  }
 ],
 "metadata": {
  "kernelspec": {
   "display_name": "Python 3 (ipykernel)",
   "language": "python",
   "name": "python3"
  },
  "language_info": {
   "codemirror_mode": {
    "name": "ipython",
    "version": 3
   },
   "file_extension": ".py",
   "mimetype": "text/x-python",
   "name": "python",
   "nbconvert_exporter": "python",
   "pygments_lexer": "ipython3",
   "version": "3.9.13"
  }
 },
 "nbformat": 4,
 "nbformat_minor": 5
}
